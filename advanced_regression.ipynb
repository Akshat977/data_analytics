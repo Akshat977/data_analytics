{
 "cells": [
  {
   "cell_type": "code",
   "execution_count": 12,
   "metadata": {},
   "outputs": [],
   "source": [
    "#importing libraries\n",
    "import pandas as pd\n",
    "import numpy as np\n",
    "import seaborn as sns\n",
    "import matplotlib.pyplot as plt"
   ]
  },
  {
   "cell_type": "code",
   "execution_count": 27,
   "metadata": {},
   "outputs": [
    {
     "data": {
      "text/plain": [
       "0       208500\n",
       "1       181500\n",
       "2       223500\n",
       "3       140000\n",
       "4       250000\n",
       "         ...  \n",
       "1455    175000\n",
       "1456    210000\n",
       "1457    266500\n",
       "1458    142125\n",
       "1459    147500\n",
       "Name: SalePrice, Length: 1460, dtype: int64"
      ]
     },
     "execution_count": 27,
     "metadata": {},
     "output_type": "execute_result"
    }
   ],
   "source": [
    "#importing test and train\n",
    "df_train=pd.read_csv('train.csv')\n",
    "#df_train.shape\n",
    "df_test=pd.read_csv('test.csv')\n",
    "#df_test.head()\n",
    "df_train['SalePrice']"
   ]
  },
  {
   "cell_type": "code",
   "execution_count": 28,
   "metadata": {},
   "outputs": [
    {
     "data": {
      "text/plain": [
       "(2919, 80)"
      ]
     },
     "execution_count": 28,
     "metadata": {},
     "output_type": "execute_result"
    }
   ],
   "source": [
    "#combining test and train\n",
    "df=pd.concat([df_train,df_test],axis=0)\n",
    "Y=df.iloc[:1460,:81]\n",
    "Y=Y.iloc[:,-1]\n",
    "df.drop(['SalePrice'],axis=1,inplace=True)\n",
    "df.shape"
   ]
  },
  {
   "cell_type": "code",
   "execution_count": 36,
   "metadata": {},
   "outputs": [
    {
     "name": "stdout",
     "output_type": "stream",
     "text": [
      "Id \t 0\n",
      "MSSubClass \t 0\n",
      "MSZoning \t 0\n",
      "LotFrontage \t 0\n",
      "LotArea \t 0\n",
      "Street \t 0\n",
      "Alley \t 0\n",
      "LotShape \t 0\n",
      "LandContour \t 0\n",
      "Utilities \t 0\n",
      "LotConfig \t 0\n",
      "LandSlope \t 0\n",
      "Neighborhood \t 0\n",
      "Condition1 \t 0\n",
      "Condition2 \t 0\n",
      "BldgType \t 0\n",
      "HouseStyle \t 0\n",
      "OverallQual \t 0\n",
      "OverallCond \t 0\n",
      "YearBuilt \t 0\n",
      "YearRemodAdd \t 0\n",
      "RoofStyle \t 0\n",
      "RoofMatl \t 0\n",
      "Exterior1st \t 0\n",
      "Exterior2nd \t 0\n",
      "MasVnrType \t 0\n",
      "MasVnrArea \t 0\n",
      "ExterQual \t 0\n",
      "ExterCond \t 0\n",
      "Foundation \t 0\n",
      "BsmtQual \t 0\n",
      "BsmtCond \t 0\n",
      "BsmtExposure \t 0\n",
      "BsmtFinType1 \t 0\n",
      "BsmtFinSF1 \t 0\n",
      "BsmtFinType2 \t 0\n",
      "BsmtFinSF2 \t 0\n",
      "BsmtUnfSF \t 0\n",
      "TotalBsmtSF \t 0\n",
      "Heating \t 0\n",
      "HeatingQC \t 0\n",
      "CentralAir \t 0\n",
      "Electrical \t 0\n",
      "1stFlrSF \t 0\n",
      "2ndFlrSF \t 0\n",
      "LowQualFinSF \t 0\n",
      "GrLivArea \t 0\n",
      "BsmtFullBath \t 0\n",
      "BsmtHalfBath \t 0\n",
      "FullBath \t 0\n",
      "HalfBath \t 0\n",
      "BedroomAbvGr \t 0\n",
      "KitchenAbvGr \t 0\n",
      "KitchenQual \t 0\n",
      "TotRmsAbvGrd \t 0\n",
      "Functional \t 0\n",
      "Fireplaces \t 0\n",
      "FireplaceQu \t 0\n",
      "GarageType \t 0\n",
      "GarageYrBlt \t 0\n",
      "GarageFinish \t 0\n",
      "GarageCars \t 0\n",
      "GarageArea \t 0\n",
      "GarageQual \t 0\n",
      "GarageCond \t 0\n",
      "PavedDrive \t 0\n",
      "WoodDeckSF \t 0\n",
      "OpenPorchSF \t 0\n",
      "EnclosedPorch \t 0\n",
      "3SsnPorch \t 0\n",
      "ScreenPorch \t 0\n",
      "PoolArea \t 0\n",
      "PoolQC \t 0\n",
      "Fence \t 0\n",
      "MiscFeature \t 0\n",
      "MiscVal \t 0\n",
      "MoSold \t 0\n",
      "YrSold \t 0\n",
      "SaleType \t 0\n",
      "SaleCondition \t 0\n"
     ]
    }
   ],
   "source": [
    "#finding nan values\n",
    "for i in df.columns.tolist():\n",
    "    print(i,'\\t',df[i].isnull().sum())"
   ]
  },
  {
   "cell_type": "code",
   "execution_count": 30,
   "metadata": {},
   "outputs": [
    {
     "name": "stdout",
     "output_type": "stream",
     "text": [
      "['Alley', 'FireplaceQu', 'PoolQC', 'Fence', 'MiscFeature']\n"
     ]
    }
   ],
   "source": [
    "#list of features to drop\n",
    "l=[]\n",
    "for i in df.columns.tolist():\n",
    "    if (df[i].isnull().sum()>1400):\n",
    "        l.append(i)\n",
    "#del[l[len(l)-1]]\n",
    "print(l)"
   ]
  },
  {
   "cell_type": "code",
   "execution_count": 31,
   "metadata": {},
   "outputs": [
    {
     "data": {
      "text/plain": [
       "(2919, 80)"
      ]
     },
     "execution_count": 31,
     "metadata": {},
     "output_type": "execute_result"
    }
   ],
   "source": [
    "#drop feature function\n",
    "def drop_shit(dff,l):\n",
    "    for i in l:\n",
    "        dff.drop([i],axis=1,inplace=True)\n",
    "    return dff\n",
    "\n",
    "df.shape\n"
   ]
  },
  {
   "cell_type": "code",
   "execution_count": 32,
   "metadata": {},
   "outputs": [],
   "source": [
    "#dealing with remaining null values\n",
    "r=[]\n",
    "for i in df.columns.tolist():\n",
    "    if df[i].isnull().sum()>0:\n",
    "        r.append(i)\n"
   ]
  },
  {
   "cell_type": "code",
   "execution_count": 33,
   "metadata": {},
   "outputs": [],
   "source": [
    "q=list()\n",
    "w=list()\n",
    "#list till now:l,r,q,w\n",
    "for i in r:\n",
    "    if df[i].dtype == df['MSZoning'].dtype:\n",
    "        q.append(i)\n",
    "    else:\n",
    "        w.append(i)"
   ]
  },
  {
   "cell_type": "code",
   "execution_count": 34,
   "metadata": {},
   "outputs": [],
   "source": [
    "#fill nan of integer and object type\n",
    "def fill_objectnan(dff,q):\n",
    "    for i in q:\n",
    "        dff[i].fillna(dff[i].mode()[0],inplace=True)\n",
    "    return dff\n",
    "def fill_intnan(dff,w):\n",
    "    for i in w:\n",
    "        dff[i].fillna(dff[i].mean(),inplace=True)\n",
    "    return dff    \n",
    "df=fill_objectnan(df,q)\n",
    "df=fill_intnan(df,w)\n",
    "        "
   ]
  },
  {
   "cell_type": "code",
   "execution_count": 35,
   "metadata": {},
   "outputs": [],
   "source": [
    "#handling categorical data\n",
    "#list till now:l,r,q,w,e\n",
    "e=list()\n",
    "for i in df.columns.tolist():\n",
    "    if df[i].dtype== df['MSZoning'].dtype:\n",
    "        e.append(i)       "
   ]
  },
  {
   "cell_type": "code",
   "execution_count": null,
   "metadata": {},
   "outputs": [],
   "source": []
  },
  {
   "cell_type": "code",
   "execution_count": 37,
   "metadata": {},
   "outputs": [],
   "source": [
    "#for more than 5 values use labelencoder else use onehotencoder\n",
    "from sklearn.preprocessing import LabelEncoder\n",
    "def encode_categorical(dff,e):\n",
    "    for i in e:\n",
    "        if len(df[i].value_counts())<=5:\n",
    "            d=pd.get_dummies(dff[i],drop_first=True)\n",
    "            dff.drop([i],axis=1,inplace=True)\n",
    "            dff=pd.concat([dff,d],axis=1)\n",
    "        else:\n",
    "            le=LabelEncoder()\n",
    "            dff[i]=le.fit_transform(dff[i])\n",
    "    return dff\n",
    "df=encode_categorical(df,e)"
   ]
  },
  {
   "cell_type": "code",
   "execution_count": 38,
   "metadata": {},
   "outputs": [],
   "source": [
    "#dropping duplicate columns\n",
    "df =df.loc[:,~df.columns.duplicated()]"
   ]
  },
  {
   "cell_type": "code",
   "execution_count": 53,
   "metadata": {},
   "outputs": [
    {
     "data": {
      "text/html": [
       "<div>\n",
       "<style scoped>\n",
       "    .dataframe tbody tr th:only-of-type {\n",
       "        vertical-align: middle;\n",
       "    }\n",
       "\n",
       "    .dataframe tbody tr th {\n",
       "        vertical-align: top;\n",
       "    }\n",
       "\n",
       "    .dataframe thead th {\n",
       "        text-align: right;\n",
       "    }\n",
       "</style>\n",
       "<table border=\"1\" class=\"dataframe\">\n",
       "  <thead>\n",
       "    <tr style=\"text-align: right;\">\n",
       "      <th></th>\n",
       "      <th>Id</th>\n",
       "      <th>MSSubClass</th>\n",
       "      <th>LotFrontage</th>\n",
       "      <th>LotArea</th>\n",
       "      <th>Neighborhood</th>\n",
       "      <th>Condition1</th>\n",
       "      <th>Condition2</th>\n",
       "      <th>HouseStyle</th>\n",
       "      <th>OverallQual</th>\n",
       "      <th>OverallCond</th>\n",
       "      <th>...</th>\n",
       "      <th>SBrkr</th>\n",
       "      <th>RFn</th>\n",
       "      <th>Unf</th>\n",
       "      <th>P</th>\n",
       "      <th>GdWo</th>\n",
       "      <th>MnPrv</th>\n",
       "      <th>MnWw</th>\n",
       "      <th>Othr</th>\n",
       "      <th>Shed</th>\n",
       "      <th>TenC</th>\n",
       "    </tr>\n",
       "  </thead>\n",
       "  <tbody>\n",
       "    <tr>\n",
       "      <th>0</th>\n",
       "      <td>1461</td>\n",
       "      <td>20</td>\n",
       "      <td>80.0</td>\n",
       "      <td>11622</td>\n",
       "      <td>12</td>\n",
       "      <td>1</td>\n",
       "      <td>2</td>\n",
       "      <td>2</td>\n",
       "      <td>5</td>\n",
       "      <td>6</td>\n",
       "      <td>...</td>\n",
       "      <td>1</td>\n",
       "      <td>0</td>\n",
       "      <td>1</td>\n",
       "      <td>0</td>\n",
       "      <td>0</td>\n",
       "      <td>1</td>\n",
       "      <td>0</td>\n",
       "      <td>0</td>\n",
       "      <td>1</td>\n",
       "      <td>0</td>\n",
       "    </tr>\n",
       "    <tr>\n",
       "      <th>1</th>\n",
       "      <td>1462</td>\n",
       "      <td>20</td>\n",
       "      <td>81.0</td>\n",
       "      <td>14267</td>\n",
       "      <td>12</td>\n",
       "      <td>2</td>\n",
       "      <td>2</td>\n",
       "      <td>2</td>\n",
       "      <td>6</td>\n",
       "      <td>6</td>\n",
       "      <td>...</td>\n",
       "      <td>1</td>\n",
       "      <td>0</td>\n",
       "      <td>1</td>\n",
       "      <td>0</td>\n",
       "      <td>0</td>\n",
       "      <td>1</td>\n",
       "      <td>0</td>\n",
       "      <td>0</td>\n",
       "      <td>0</td>\n",
       "      <td>0</td>\n",
       "    </tr>\n",
       "    <tr>\n",
       "      <th>2</th>\n",
       "      <td>1463</td>\n",
       "      <td>60</td>\n",
       "      <td>74.0</td>\n",
       "      <td>13830</td>\n",
       "      <td>8</td>\n",
       "      <td>2</td>\n",
       "      <td>2</td>\n",
       "      <td>5</td>\n",
       "      <td>5</td>\n",
       "      <td>5</td>\n",
       "      <td>...</td>\n",
       "      <td>1</td>\n",
       "      <td>0</td>\n",
       "      <td>0</td>\n",
       "      <td>0</td>\n",
       "      <td>0</td>\n",
       "      <td>1</td>\n",
       "      <td>0</td>\n",
       "      <td>0</td>\n",
       "      <td>1</td>\n",
       "      <td>0</td>\n",
       "    </tr>\n",
       "    <tr>\n",
       "      <th>3</th>\n",
       "      <td>1464</td>\n",
       "      <td>60</td>\n",
       "      <td>78.0</td>\n",
       "      <td>9978</td>\n",
       "      <td>8</td>\n",
       "      <td>2</td>\n",
       "      <td>2</td>\n",
       "      <td>5</td>\n",
       "      <td>6</td>\n",
       "      <td>6</td>\n",
       "      <td>...</td>\n",
       "      <td>1</td>\n",
       "      <td>0</td>\n",
       "      <td>0</td>\n",
       "      <td>0</td>\n",
       "      <td>0</td>\n",
       "      <td>1</td>\n",
       "      <td>0</td>\n",
       "      <td>0</td>\n",
       "      <td>1</td>\n",
       "      <td>0</td>\n",
       "    </tr>\n",
       "    <tr>\n",
       "      <th>4</th>\n",
       "      <td>1465</td>\n",
       "      <td>120</td>\n",
       "      <td>43.0</td>\n",
       "      <td>5005</td>\n",
       "      <td>22</td>\n",
       "      <td>2</td>\n",
       "      <td>2</td>\n",
       "      <td>2</td>\n",
       "      <td>8</td>\n",
       "      <td>5</td>\n",
       "      <td>...</td>\n",
       "      <td>1</td>\n",
       "      <td>1</td>\n",
       "      <td>0</td>\n",
       "      <td>0</td>\n",
       "      <td>0</td>\n",
       "      <td>1</td>\n",
       "      <td>0</td>\n",
       "      <td>0</td>\n",
       "      <td>1</td>\n",
       "      <td>0</td>\n",
       "    </tr>\n",
       "  </tbody>\n",
       "</table>\n",
       "<p>5 rows × 98 columns</p>\n",
       "</div>"
      ],
      "text/plain": [
       "     Id  MSSubClass  LotFrontage  LotArea  Neighborhood  Condition1  \\\n",
       "0  1461          20         80.0    11622            12           1   \n",
       "1  1462          20         81.0    14267            12           2   \n",
       "2  1463          60         74.0    13830             8           2   \n",
       "3  1464          60         78.0     9978             8           2   \n",
       "4  1465         120         43.0     5005            22           2   \n",
       "\n",
       "   Condition2  HouseStyle  OverallQual  OverallCond  ...  SBrkr  RFn  Unf  P  \\\n",
       "0           2           2            5            6  ...      1    0    1  0   \n",
       "1           2           2            6            6  ...      1    0    1  0   \n",
       "2           2           5            5            5  ...      1    0    0  0   \n",
       "3           2           5            6            6  ...      1    0    0  0   \n",
       "4           2           2            8            5  ...      1    1    0  0   \n",
       "\n",
       "   GdWo  MnPrv  MnWw  Othr  Shed  TenC  \n",
       "0     0      1     0     0     1     0  \n",
       "1     0      1     0     0     0     0  \n",
       "2     0      1     0     0     1     0  \n",
       "3     0      1     0     0     1     0  \n",
       "4     0      1     0     0     1     0  \n",
       "\n",
       "[5 rows x 98 columns]"
      ]
     },
     "execution_count": 53,
     "metadata": {},
     "output_type": "execute_result"
    }
   ],
   "source": [
    "df_train=df.iloc[:1460,:]\n",
    "df_test=df.iloc[1460:,:]\n",
    "df_test.head()"
   ]
  },
  {
   "cell_type": "code",
   "execution_count": 57,
   "metadata": {},
   "outputs": [
    {
     "data": {
      "text/html": [
       "<div>\n",
       "<style scoped>\n",
       "    .dataframe tbody tr th:only-of-type {\n",
       "        vertical-align: middle;\n",
       "    }\n",
       "\n",
       "    .dataframe tbody tr th {\n",
       "        vertical-align: top;\n",
       "    }\n",
       "\n",
       "    .dataframe thead th {\n",
       "        text-align: right;\n",
       "    }\n",
       "</style>\n",
       "<table border=\"1\" class=\"dataframe\">\n",
       "  <thead>\n",
       "    <tr style=\"text-align: right;\">\n",
       "      <th></th>\n",
       "      <th>Specs</th>\n",
       "      <th>Score</th>\n",
       "    </tr>\n",
       "  </thead>\n",
       "  <tbody>\n",
       "    <tr>\n",
       "      <th>50</th>\n",
       "      <td>YrSold</td>\n",
       "      <td>0.602971</td>\n",
       "    </tr>\n",
       "    <tr>\n",
       "      <th>96</th>\n",
       "      <td>Shed</td>\n",
       "      <td>1.857829</td>\n",
       "    </tr>\n",
       "    <tr>\n",
       "      <th>57</th>\n",
       "      <td>Pave</td>\n",
       "      <td>3.650601</td>\n",
       "    </tr>\n",
       "    <tr>\n",
       "      <th>6</th>\n",
       "      <td>Condition2</td>\n",
       "      <td>27.336481</td>\n",
       "    </tr>\n",
       "    <tr>\n",
       "      <th>34</th>\n",
       "      <td>KitchenAbvGr</td>\n",
       "      <td>28.490834</td>\n",
       "    </tr>\n",
       "  </tbody>\n",
       "</table>\n",
       "</div>"
      ],
      "text/plain": [
       "           Specs      Score\n",
       "50        YrSold   0.602971\n",
       "96          Shed   1.857829\n",
       "57          Pave   3.650601\n",
       "6     Condition2  27.336481\n",
       "34  KitchenAbvGr  28.490834"
      ]
     },
     "execution_count": 57,
     "metadata": {},
     "output_type": "execute_result"
    }
   ],
   "source": [
    "#FEATURE SELECTIONdeleting unnecessary features\n",
    "from sklearn.feature_selection import chi2,SelectKBest\n",
    "select=SelectKBest(score_func=chi2,k=10)\n",
    "fit=select.fit(df_train,Y)\n",
    "dfscores=pd.DataFrame(fit.scores_)\n",
    "dfcolumns=pd.DataFrame(df_train.columns)\n",
    "Scores=pd.concat([dfcolumns,dfscores],axis=1)\n",
    "Scores.columns=['Specs','Score']\n",
    "delete=Scores.nsmallest(5,'Score')\n",
    "delete\n",
    "#delete unnecessary columns accordingly then split and check the shape is correct in below columns"
   ]
  },
  {
   "cell_type": "code",
   "execution_count": 59,
   "metadata": {},
   "outputs": [
    {
     "name": "stderr",
     "output_type": "stream",
     "text": [
      "C:\\Users\\aksha\\anaconda3\\lib\\site-packages\\pandas\\core\\frame.py:3997: SettingWithCopyWarning: \n",
      "A value is trying to be set on a copy of a slice from a DataFrame\n",
      "\n",
      "See the caveats in the documentation: https://pandas.pydata.org/pandas-docs/stable/user_guide/indexing.html#returning-a-view-versus-a-copy\n",
      "  errors=errors,\n"
     ]
    }
   ],
   "source": [
    "#delete in df_test accordingly:\n",
    "for i in delete['Specs']:\n",
    "    df_train.drop([i],axis=1,inplace=True)\n",
    "    df_test.drop([i],axis=1,inplace=True)"
   ]
  },
  {
   "cell_type": "code",
   "execution_count": 60,
   "metadata": {},
   "outputs": [
    {
     "name": "stdout",
     "output_type": "stream",
     "text": [
      "(1460, 93)\n",
      "(1459, 93)\n",
      "(1460,)\n"
     ]
    },
    {
     "data": {
      "text/plain": [
       "'\\n(1460, 98)\\n(1459, 98)\\n(1460,)\\n'"
      ]
     },
     "execution_count": 60,
     "metadata": {},
     "output_type": "execute_result"
    }
   ],
   "source": [
    "print(df_train.shape)\n",
    "print(df_test.shape)\n",
    "print(Y.shape)\n",
    "'''\n",
    "(1460, 98)\n",
    "(1459, 98)\n",
    "(1460,)\n",
    "'''"
   ]
  },
  {
   "cell_type": "code",
   "execution_count": 68,
   "metadata": {},
   "outputs": [
    {
     "name": "stdout",
     "output_type": "stream",
     "text": [
      "Fitting 5 folds for each of 5 candidates, totalling 25 fits\n",
      "[CV] min_child_weight=1, max_depth=5, learning_rate=0.25, gamma=0.5, colsample_bytree=0.4 \n",
      "[CV]  min_child_weight=1, max_depth=5, learning_rate=0.25, gamma=0.5, colsample_bytree=0.4, score=-24408.801, total=   0.2s"
     ]
    },
    {
     "name": "stderr",
     "output_type": "stream",
     "text": [
      "[Parallel(n_jobs=1)]: Using backend SequentialBackend with 1 concurrent workers.\n"
     ]
    },
    {
     "name": "stdout",
     "output_type": "stream",
     "text": [
      "\n",
      "[CV] min_child_weight=1, max_depth=5, learning_rate=0.25, gamma=0.5, colsample_bytree=0.4 \n",
      "[CV]  min_child_weight=1, max_depth=5, learning_rate=0.25, gamma=0.5, colsample_bytree=0.4, score=-32489.435, total=   0.1s\n",
      "[CV] min_child_weight=1, max_depth=5, learning_rate=0.25, gamma=0.5, colsample_bytree=0.4 \n"
     ]
    },
    {
     "name": "stderr",
     "output_type": "stream",
     "text": [
      "[Parallel(n_jobs=1)]: Done   1 out of   1 | elapsed:    0.1s remaining:    0.0s\n",
      "[Parallel(n_jobs=1)]: Done   2 out of   2 | elapsed:    0.3s remaining:    0.0s\n"
     ]
    },
    {
     "name": "stdout",
     "output_type": "stream",
     "text": [
      "[CV]  min_child_weight=1, max_depth=5, learning_rate=0.25, gamma=0.5, colsample_bytree=0.4, score=-28759.816, total=   0.2s\n",
      "[CV] min_child_weight=1, max_depth=5, learning_rate=0.25, gamma=0.5, colsample_bytree=0.4 \n",
      "[CV]  min_child_weight=1, max_depth=5, learning_rate=0.25, gamma=0.5, colsample_bytree=0.4, score=-23311.824, total=   0.2s\n",
      "[CV] min_child_weight=1, max_depth=5, learning_rate=0.25, gamma=0.5, colsample_bytree=0.4 \n",
      "[CV]  min_child_weight=1, max_depth=5, learning_rate=0.25, gamma=0.5, colsample_bytree=0.4, score=-27513.689, total=   0.2s\n",
      "[CV] min_child_weight=1, max_depth=12, learning_rate=0.3, gamma=0.3, colsample_bytree=0.7 \n",
      "[CV]  min_child_weight=1, max_depth=12, learning_rate=0.3, gamma=0.3, colsample_bytree=0.7, score=-28099.989, total=   0.4s\n",
      "[CV] min_child_weight=1, max_depth=12, learning_rate=0.3, gamma=0.3, colsample_bytree=0.7 \n",
      "[CV]  min_child_weight=1, max_depth=12, learning_rate=0.3, gamma=0.3, colsample_bytree=0.7, score=-36616.717, total=   0.4s\n",
      "[CV] min_child_weight=1, max_depth=12, learning_rate=0.3, gamma=0.3, colsample_bytree=0.7 \n",
      "[CV]  min_child_weight=1, max_depth=12, learning_rate=0.3, gamma=0.3, colsample_bytree=0.7, score=-32268.805, total=   0.5s\n",
      "[CV] min_child_weight=1, max_depth=12, learning_rate=0.3, gamma=0.3, colsample_bytree=0.7 \n",
      "[CV]  min_child_weight=1, max_depth=12, learning_rate=0.3, gamma=0.3, colsample_bytree=0.7, score=-25853.783, total=   0.5s\n",
      "[CV] min_child_weight=1, max_depth=12, learning_rate=0.3, gamma=0.3, colsample_bytree=0.7 \n",
      "[CV]  min_child_weight=1, max_depth=12, learning_rate=0.3, gamma=0.3, colsample_bytree=0.7, score=-29267.861, total=   0.6s\n",
      "[CV] min_child_weight=5, max_depth=5, learning_rate=0.3, gamma=0.3, colsample_bytree=0.7 \n",
      "[CV]  min_child_weight=5, max_depth=5, learning_rate=0.3, gamma=0.3, colsample_bytree=0.7, score=-25524.722, total=   0.2s\n",
      "[CV] min_child_weight=5, max_depth=5, learning_rate=0.3, gamma=0.3, colsample_bytree=0.7 \n",
      "[CV]  min_child_weight=5, max_depth=5, learning_rate=0.3, gamma=0.3, colsample_bytree=0.7, score=-34026.920, total=   0.2s\n",
      "[CV] min_child_weight=5, max_depth=5, learning_rate=0.3, gamma=0.3, colsample_bytree=0.7 \n",
      "[CV]  min_child_weight=5, max_depth=5, learning_rate=0.3, gamma=0.3, colsample_bytree=0.7, score=-30799.408, total=   0.2s\n",
      "[CV] min_child_weight=5, max_depth=5, learning_rate=0.3, gamma=0.3, colsample_bytree=0.7 \n",
      "[CV]  min_child_weight=5, max_depth=5, learning_rate=0.3, gamma=0.3, colsample_bytree=0.7, score=-20840.226, total=   0.2s\n",
      "[CV] min_child_weight=5, max_depth=5, learning_rate=0.3, gamma=0.3, colsample_bytree=0.7 \n",
      "[CV]  min_child_weight=5, max_depth=5, learning_rate=0.3, gamma=0.3, colsample_bytree=0.7, score=-30702.604, total=   0.2s\n",
      "[CV] min_child_weight=5, max_depth=12, learning_rate=0.1, gamma=0.2, colsample_bytree=0.4 \n",
      "[CV]  min_child_weight=5, max_depth=12, learning_rate=0.1, gamma=0.2, colsample_bytree=0.4, score=-23360.823, total=   0.3s\n",
      "[CV] min_child_weight=5, max_depth=12, learning_rate=0.1, gamma=0.2, colsample_bytree=0.4 \n",
      "[CV]  min_child_weight=5, max_depth=12, learning_rate=0.1, gamma=0.2, colsample_bytree=0.4, score=-31006.425, total=   0.4s\n",
      "[CV] min_child_weight=5, max_depth=12, learning_rate=0.1, gamma=0.2, colsample_bytree=0.4 \n",
      "[CV]  min_child_weight=5, max_depth=12, learning_rate=0.1, gamma=0.2, colsample_bytree=0.4, score=-28920.778, total=   0.3s\n",
      "[CV] min_child_weight=5, max_depth=12, learning_rate=0.1, gamma=0.2, colsample_bytree=0.4 \n",
      "[CV]  min_child_weight=5, max_depth=12, learning_rate=0.1, gamma=0.2, colsample_bytree=0.4, score=-19692.976, total=   0.3s\n",
      "[CV] min_child_weight=5, max_depth=12, learning_rate=0.1, gamma=0.2, colsample_bytree=0.4 \n",
      "[CV]  min_child_weight=5, max_depth=12, learning_rate=0.1, gamma=0.2, colsample_bytree=0.4, score=-29242.225, total=   0.3s\n",
      "[CV] min_child_weight=1, max_depth=9, learning_rate=0.15, gamma=0.4, colsample_bytree=0.5 \n",
      "[CV]  min_child_weight=1, max_depth=9, learning_rate=0.15, gamma=0.4, colsample_bytree=0.5, score=-27110.974, total=   0.3s\n",
      "[CV] min_child_weight=1, max_depth=9, learning_rate=0.15, gamma=0.4, colsample_bytree=0.5 \n",
      "[CV]  min_child_weight=1, max_depth=9, learning_rate=0.15, gamma=0.4, colsample_bytree=0.5, score=-34873.597, total=   0.3s\n",
      "[CV] min_child_weight=1, max_depth=9, learning_rate=0.15, gamma=0.4, colsample_bytree=0.5 \n",
      "[CV]  min_child_weight=1, max_depth=9, learning_rate=0.15, gamma=0.4, colsample_bytree=0.5, score=-30383.310, total=   0.3s\n",
      "[CV] min_child_weight=1, max_depth=9, learning_rate=0.15, gamma=0.4, colsample_bytree=0.5 \n",
      "[CV]  min_child_weight=1, max_depth=9, learning_rate=0.15, gamma=0.4, colsample_bytree=0.5, score=-22181.403, total=   0.3s\n",
      "[CV] min_child_weight=1, max_depth=9, learning_rate=0.15, gamma=0.4, colsample_bytree=0.5 \n",
      "[CV]  min_child_weight=1, max_depth=9, learning_rate=0.15, gamma=0.4, colsample_bytree=0.5, score=-27751.545, total=   0.2s\n"
     ]
    },
    {
     "name": "stderr",
     "output_type": "stream",
     "text": [
      "[Parallel(n_jobs=1)]: Done  25 out of  25 | elapsed:    7.7s finished\n"
     ]
    },
    {
     "data": {
      "text/plain": [
       "XGBRegressor(base_score=0.5, booster='gbtree', colsample_bylevel=1,\n",
       "             colsample_bynode=1, colsample_bytree=0.4, gamma=0.2, gpu_id=-1,\n",
       "             importance_type='gain', interaction_constraints='',\n",
       "             learning_rate=0.1, max_delta_step=0, max_depth=12,\n",
       "             min_child_weight=5, missing=nan, monotone_constraints='()',\n",
       "             n_estimators=100, n_jobs=0, num_parallel_tree=1,\n",
       "             objective='reg:squarederror', random_state=0, reg_alpha=0,\n",
       "             reg_lambda=1, scale_pos_weight=1, subsample=1, tree_method='exact',\n",
       "             validate_parameters=1, verbosity=None)"
      ]
     },
     "execution_count": 68,
     "metadata": {},
     "output_type": "execute_result"
    }
   ],
   "source": [
    "#xgboost with hyperparameter tuning\n",
    "from sklearn.model_selection import RandomizedSearchCV\n",
    "import xgboost\n",
    "params={\n",
    "    'learning_rate':[0.05,0.10,0.15,0.20,0.25,0.30,0.35],\n",
    "    'max_depth':[3,4,5,6,7,8,9,10,12,15],\n",
    "    'min_child_weight':[1,3,5,7],\n",
    "    'gamma':[0.1,0.2,0.3,0.4,0.5],\n",
    "    'colsample_bytree':[0.3,0.4,0.5,0.7]\n",
    "}\n",
    "model=xgboost.XGBRegressor()\n",
    "random=RandomizedSearchCV(model,param_distributions=params,n_iter=5,scoring='neg_root_mean_squared_error',cv=5,verbose=3)\n",
    "random.fit(df_train,Y)\n",
    "random.best_estimator_"
   ]
  },
  {
   "cell_type": "code",
   "execution_count": 71,
   "metadata": {},
   "outputs": [],
   "source": [
    "#implementing xgboost regressor with hypertuned methods\n",
    "model_xgb=xgboost.XGBRegressor(base_score=0.5, booster='gbtree', colsample_bylevel=1,\n",
    "             colsample_bynode=1, colsample_bytree=0.4, gamma=0.2, gpu_id=-1,\n",
    "             importance_type='gain', interaction_constraints='',\n",
    "             learning_rate=0.1, max_delta_step=0, max_depth=12,\n",
    "             min_child_weight=5, missing=np.nan, monotone_constraints='()',\n",
    "             n_estimators=100, n_jobs=0, num_parallel_tree=1,\n",
    "             objective='reg:squarederror', random_state=0, reg_alpha=0,\n",
    "             reg_lambda=1, scale_pos_weight=1, subsample=1, tree_method='exact',\n",
    "             validate_parameters=1, verbosity=None)\n",
    "model_xgb.fit(df_train,Y)\n",
    "predict_xgb=model_xgb.predict(df_test)"
   ]
  },
  {
   "cell_type": "code",
   "execution_count": 81,
   "metadata": {},
   "outputs": [],
   "source": [
    "#saving the predictions to a dataframe\n",
    "sample=pd.read_csv('sample_submission.csv')\n",
    "final_xgb=pd.DataFrame({'Id':sample['Id'],\n",
    "                       'SalePrice':predict_xgb})"
   ]
  },
  {
   "cell_type": "code",
   "execution_count": 83,
   "metadata": {},
   "outputs": [],
   "source": [
    "final_xgb.to_csv(\"answer_xgb.csv\",index=False)"
   ]
  },
  {
   "cell_type": "code",
   "execution_count": 86,
   "metadata": {},
   "outputs": [],
   "source": [
    "#using neural networks with hyperparameter tuning:\n",
    "import tensorflow.keras\n",
    "from tensorflow.keras.models import Sequential\n",
    "from tensorflow.keras.layers import Dense"
   ]
  },
  {
   "cell_type": "code",
   "execution_count": 97,
   "metadata": {},
   "outputs": [],
   "source": [
    "regressor=Sequential()\n",
    "regressor.add(Dense(units = 50,activation='relu',input_dim = 93))\n",
    "regressor.add(Dense(units = 25,activation='relu'))\n",
    "regressor.add(Dense(units = 50, activation='relu'))\n",
    "regressor.add(Dense(units = 1))\n",
    "regressor.compile(loss=root_mean_squared_error,optimizer='Adamax')\n",
    "#model_history=regressor.fit(df_train.values, Y.values,validation_split=0.20, batch_size = 10, epochs = 1000)"
   ]
  },
  {
   "cell_type": "code",
   "execution_count": 89,
   "metadata": {},
   "outputs": [],
   "source": [
    "from tensorflow.keras import backend as K\n",
    "def root_mean_squared_error(y_true, y_pred):\n",
    "        return K.sqrt(K.mean(K.square(y_pred - y_true)))"
   ]
  },
  {
   "cell_type": "code",
   "execution_count": 122,
   "metadata": {},
   "outputs": [],
   "source": [
    "pred_ann=regressor.predict(df_test.values)"
   ]
  },
  {
   "cell_type": "code",
   "execution_count": 125,
   "metadata": {},
   "outputs": [],
   "source": [
    "pred=pd.DataFrame(pred_ann)\n",
    "final_ann=pd.concat([sample['Id'],pred],axis=1)\n",
    "final_ann.columns=['Id','Saleprice']\n",
    "final_ann.to_csv(\"answer_ann.csv\",index=False)"
   ]
  },
  {
   "cell_type": "code",
   "execution_count": 127,
   "metadata": {},
   "outputs": [],
   "source": [
    "\n",
    "\n"
   ]
  },
  {
   "cell_type": "code",
   "execution_count": null,
   "metadata": {},
   "outputs": [],
   "source": []
  }
 ],
 "metadata": {
  "kernelspec": {
   "display_name": "Python 3",
   "language": "python",
   "name": "python3"
  },
  "language_info": {
   "codemirror_mode": {
    "name": "ipython",
    "version": 3
   },
   "file_extension": ".py",
   "mimetype": "text/x-python",
   "name": "python",
   "nbconvert_exporter": "python",
   "pygments_lexer": "ipython3",
   "version": "3.7.6"
  }
 },
 "nbformat": 4,
 "nbformat_minor": 4
}
